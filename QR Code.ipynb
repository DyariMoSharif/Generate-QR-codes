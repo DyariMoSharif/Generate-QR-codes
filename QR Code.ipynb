{
 "cells": [
  {
   "cell_type": "code",
   "execution_count": 1,
   "id": "706a6c9c",
   "metadata": {},
   "outputs": [],
   "source": [
    "import pandas as pd\n",
    "import pyqrcode\n",
    "import png\n",
    "from pyqrcode import QRCode\n",
    "import io\n",
    "import sys\n",
    "from PIL import Image, ImageDraw, ImageFont\n",
    "\n",
    "data=pd.read_csv('sample.csv',encoding = \"utf-8\")"
   ]
  },
  {
   "cell_type": "code",
   "execution_count": 4,
   "id": "8098479a",
   "metadata": {},
   "outputs": [
    {
     "data": {
      "text/html": [
       "<div>\n",
       "<style scoped>\n",
       "    .dataframe tbody tr th:only-of-type {\n",
       "        vertical-align: middle;\n",
       "    }\n",
       "\n",
       "    .dataframe tbody tr th {\n",
       "        vertical-align: top;\n",
       "    }\n",
       "\n",
       "    .dataframe thead th {\n",
       "        text-align: right;\n",
       "    }\n",
       "</style>\n",
       "<table border=\"1\" class=\"dataframe\">\n",
       "  <thead>\n",
       "    <tr style=\"text-align: right;\">\n",
       "      <th></th>\n",
       "      <th>Name</th>\n",
       "      <th>Code</th>\n",
       "      <th>QrCodeLocation</th>\n",
       "    </tr>\n",
       "  </thead>\n",
       "  <tbody>\n",
       "    <tr>\n",
       "      <th>0</th>\n",
       "      <td>Hassan Ahmad Salh</td>\n",
       "      <td>AA00</td>\n",
       "      <td>0</td>\n",
       "    </tr>\n",
       "    <tr>\n",
       "      <th>1</th>\n",
       "      <td>Azad Muhammed Kareem</td>\n",
       "      <td>AA01</td>\n",
       "      <td>0</td>\n",
       "    </tr>\n",
       "    <tr>\n",
       "      <th>2</th>\n",
       "      <td>Layla Kareem Azad</td>\n",
       "      <td>AA02</td>\n",
       "      <td>0</td>\n",
       "    </tr>\n",
       "    <tr>\n",
       "      <th>3</th>\n",
       "      <td>Jihad Shakr Khorsheed</td>\n",
       "      <td>AA03</td>\n",
       "      <td>0</td>\n",
       "    </tr>\n",
       "  </tbody>\n",
       "</table>\n",
       "</div>"
      ],
      "text/plain": [
       "                    Name  Code  QrCodeLocation\n",
       "0      Hassan Ahmad Salh  AA00               0\n",
       "1   Azad Muhammed Kareem  AA01               0\n",
       "2      Layla Kareem Azad  AA02               0\n",
       "3  Jihad Shakr Khorsheed  AA03               0"
      ]
     },
     "execution_count": 4,
     "metadata": {},
     "output_type": "execute_result"
    }
   ],
   "source": [
    "data['QrCodeLocation']=0\n",
    "data.head()"
   ]
  },
  {
   "cell_type": "code",
   "execution_count": 62,
   "id": "ed5acbd8",
   "metadata": {
    "scrolled": true
   },
   "outputs": [
    {
     "name": "stdout",
     "output_type": "stream",
     "text": [
      "17   Hassan Ahmad Salh\n",
      "20   Azad Muhammed Kareem\n",
      "17   Layla Kareem Azad\n",
      "21   Jihad Shakr Khorsheed\n"
     ]
    }
   ],
   "source": [
    "def qrCode(name,code):\n",
    "    theQRcode=pyqrcode.create(code)\n",
    "    folder='QRcodes\\\\'\n",
    "    fileFormat='.png'\n",
    "    inBetween='_'\n",
    "    path=folder+name+inBetween+code+fileFormat\n",
    "    theQRcode.png(path, scale = 10)\n",
    "    img = Image.open(path)\n",
    "    I1 = ImageDraw.Draw(img)\n",
    "    fontName = ImageFont.truetype(\"times.ttf\", size=22)\n",
    "    fontCode = ImageFont.truetype(\"times.ttf\", size=35)\n",
    "    I1.text((img.width/len(name)+15, img.height-40), name,font=fontName)\n",
    "    I1.text((img.width/2.59, 2), code,font=fontCode)\n",
    "    \n",
    "    print(len(name),' ',name)\n",
    "    \n",
    "    img.save(path)\n",
    "    return path\n",
    "\n",
    "for i in range(data.shape[0]):\n",
    "    data['QrCodeLocation'].iloc[i]=qrCode(str(data['Name'][i]),str(data['Code'][i]))"
   ]
  },
  {
   "cell_type": "code",
   "execution_count": 9,
   "id": "66ed4d36",
   "metadata": {},
   "outputs": [],
   "source": [
    "data.to_csv('sampleUPDATED.csv')"
   ]
  }
 ],
 "metadata": {
  "kernelspec": {
   "display_name": "Python 3 (ipykernel)",
   "language": "python",
   "name": "python3"
  },
  "language_info": {
   "codemirror_mode": {
    "name": "ipython",
    "version": 3
   },
   "file_extension": ".py",
   "mimetype": "text/x-python",
   "name": "python",
   "nbconvert_exporter": "python",
   "pygments_lexer": "ipython3",
   "version": "3.9.7"
  }
 },
 "nbformat": 4,
 "nbformat_minor": 5
}
