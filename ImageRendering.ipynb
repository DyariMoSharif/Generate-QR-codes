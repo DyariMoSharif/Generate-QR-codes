{
 "cells": [
  {
   "cell_type": "code",
   "execution_count": 1,
   "id": "c76ecea9",
   "metadata": {},
   "outputs": [],
   "source": [
    "from PIL import Image, ImageDraw, ImageFont\n",
    "from PIL import ImageDraw"
   ]
  },
  {
   "cell_type": "code",
   "execution_count": 20,
   "id": "df0823e9",
   "metadata": {},
   "outputs": [],
   "source": [
    "img = Image.open('QRcodes\\\\Azad Muhammed Kareem_AA01.png')\n",
    " \n",
    "# Call draw Method to add 2D graphics in an image\n",
    "I1 = ImageDraw.Draw(img)\n",
    "\n",
    "\n",
    "font = ImageFont.truetype(\"times.ttf\", size=14)\n",
    "\n",
    "# Add Text to an image\n",
    "I1.text((12, 148), \"Azad Muhammed Kareem\",font=font)\n",
    "I1.text((img.width/2.5, 160), \"AA01\",font=font)\n",
    " \n"
   ]
  }
 ],
 "metadata": {
  "kernelspec": {
   "display_name": "Python 3 (ipykernel)",
   "language": "python",
   "name": "python3"
  },
  "language_info": {
   "codemirror_mode": {
    "name": "ipython",
    "version": 3
   },
   "file_extension": ".py",
   "mimetype": "text/x-python",
   "name": "python",
   "nbconvert_exporter": "python",
   "pygments_lexer": "ipython3",
   "version": "3.9.7"
  }
 },
 "nbformat": 4,
 "nbformat_minor": 5
}
