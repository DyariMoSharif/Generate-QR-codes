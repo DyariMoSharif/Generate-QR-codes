{
 "cells": [
  {
   "cell_type": "code",
   "execution_count": 1,
   "id": "aae25472",
   "metadata": {},
   "outputs": [],
   "source": [
    "import pandas as pd\n",
    "import pyqrcode\n",
    "import png\n",
    "from pyqrcode import QRCode\n",
    "import io\n",
    "import sys"
   ]
  },
  {
   "cell_type": "code",
   "execution_count": 2,
   "id": "bf7f7d14",
   "metadata": {},
   "outputs": [],
   "source": [
    "data=pd.read_csv('sample.csv',encoding = \"utf-8\")"
   ]
  },
  {
   "cell_type": "code",
   "execution_count": 3,
   "id": "cd168d8e",
   "metadata": {
    "scrolled": true
   },
   "outputs": [],
   "source": [
    "def qrCode(name,code):\n",
    "    theQRcode=pyqrcode.create(code)\n",
    "    folder='C:\\\\Users\\\\dyari\\\\Desktop\\\\QrCode\\\\QRcodes\\\\'\n",
    "    fileFormat='.png'\n",
    "    inBetween='_'\n",
    "    path=folder+name+inBetween+code+fileFormat\n",
    "    theQRcode.png(path, scale = 6)\n",
    "    return path"
   ]
  },
  {
   "cell_type": "code",
   "execution_count": 4,
   "id": "3d869b99",
   "metadata": {},
   "outputs": [
    {
     "data": {
      "text/html": [
       "<div>\n",
       "<style scoped>\n",
       "    .dataframe tbody tr th:only-of-type {\n",
       "        vertical-align: middle;\n",
       "    }\n",
       "\n",
       "    .dataframe tbody tr th {\n",
       "        vertical-align: top;\n",
       "    }\n",
       "\n",
       "    .dataframe thead th {\n",
       "        text-align: right;\n",
       "    }\n",
       "</style>\n",
       "<table border=\"1\" class=\"dataframe\">\n",
       "  <thead>\n",
       "    <tr style=\"text-align: right;\">\n",
       "      <th></th>\n",
       "      <th>Name</th>\n",
       "      <th>Code</th>\n",
       "      <th>QrCodeLocation</th>\n",
       "    </tr>\n",
       "  </thead>\n",
       "  <tbody>\n",
       "    <tr>\n",
       "      <th>0</th>\n",
       "      <td>Hassan Ahmad Salh</td>\n",
       "      <td>AA00</td>\n",
       "      <td>0</td>\n",
       "    </tr>\n",
       "    <tr>\n",
       "      <th>1</th>\n",
       "      <td>Azad Muhammed Kareem</td>\n",
       "      <td>AA01</td>\n",
       "      <td>0</td>\n",
       "    </tr>\n",
       "    <tr>\n",
       "      <th>2</th>\n",
       "      <td>Layla Kareem Azad</td>\n",
       "      <td>AA02</td>\n",
       "      <td>0</td>\n",
       "    </tr>\n",
       "    <tr>\n",
       "      <th>3</th>\n",
       "      <td>Jihad Shakr Khorsheed</td>\n",
       "      <td>AA03</td>\n",
       "      <td>0</td>\n",
       "    </tr>\n",
       "  </tbody>\n",
       "</table>\n",
       "</div>"
      ],
      "text/plain": [
       "                    Name  Code  QrCodeLocation\n",
       "0      Hassan Ahmad Salh  AA00               0\n",
       "1   Azad Muhammed Kareem  AA01               0\n",
       "2      Layla Kareem Azad  AA02               0\n",
       "3  Jihad Shakr Khorsheed  AA03               0"
      ]
     },
     "execution_count": 4,
     "metadata": {},
     "output_type": "execute_result"
    }
   ],
   "source": [
    "data['QrCodeLocation']=0\n",
    "data.head()"
   ]
  },
  {
   "cell_type": "code",
   "execution_count": 5,
   "id": "c75605d4",
   "metadata": {},
   "outputs": [
    {
     "name": "stderr",
     "output_type": "stream",
     "text": [
      "C:\\Users\\dyari\\anaconda3\\lib\\site-packages\\pandas\\core\\indexing.py:1732: SettingWithCopyWarning: \n",
      "A value is trying to be set on a copy of a slice from a DataFrame\n",
      "\n",
      "See the caveats in the documentation: https://pandas.pydata.org/pandas-docs/stable/user_guide/indexing.html#returning-a-view-versus-a-copy\n",
      "  self._setitem_single_block(indexer, value, name)\n"
     ]
    }
   ],
   "source": [
    "for i in range(data.shape[0]):\n",
    "    data['QrCodeLocation'].iloc[i]=qrCode(str(data['Name'][i]),str(data['Code'][i]))"
   ]
  },
  {
   "cell_type": "code",
   "execution_count": 6,
   "id": "0d9cd313",
   "metadata": {},
   "outputs": [],
   "source": [
    "data.to_csv('sampleUPDATED.csv')"
   ]
  }
 ],
 "metadata": {
  "kernelspec": {
   "display_name": "Python 3 (ipykernel)",
   "language": "python",
   "name": "python3"
  },
  "language_info": {
   "codemirror_mode": {
    "name": "ipython",
    "version": 3
   },
   "file_extension": ".py",
   "mimetype": "text/x-python",
   "name": "python",
   "nbconvert_exporter": "python",
   "pygments_lexer": "ipython3",
   "version": "3.9.7"
  }
 },
 "nbformat": 4,
 "nbformat_minor": 5
}
